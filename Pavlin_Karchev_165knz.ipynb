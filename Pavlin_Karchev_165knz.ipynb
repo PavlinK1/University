{
  "nbformat": 4,
  "nbformat_minor": 0,
  "metadata": {
    "colab": {
      "provenance": [],
      "authorship_tag": "ABX9TyNkxni/9OnkW9Z7+HKCh0VW",
      "include_colab_link": true
    },
    "kernelspec": {
      "name": "python3",
      "display_name": "Python 3"
    },
    "language_info": {
      "name": "python"
    }
  },
  "cells": [
    {
      "cell_type": "markdown",
      "metadata": {
        "id": "view-in-github",
        "colab_type": "text"
      },
      "source": [
        "<a href=\"https://colab.research.google.com/github/PavlinK1/University/blob/main/Pavlin_Karchev_165knz.ipynb\" target=\"_parent\"><img src=\"https://colab.research.google.com/assets/colab-badge.svg\" alt=\"Open In Colab\"/></a>"
      ]
    },
    {
      "cell_type": "code",
      "execution_count": 5,
      "metadata": {
        "colab": {
          "base_uri": "https://localhost:8080/"
        },
        "id": "kqFhf0kGDXr7",
        "outputId": "b571ca15-a73e-46c6-a1b4-f8461a0dff11"
      },
      "outputs": [
        {
          "output_type": "stream",
          "name": "stdout",
          "text": [
            "Моля, въведете вашата възраст: 14\n",
            "Нямате навършени години за поръчка на алкохол.\n"
          ]
        }
      ],
      "source": [
        "\"\"\"\n",
        "Условие: Да се напише програма, която изисква от потребителя да въведе възрастта\n",
        "си. Ако възрастта е под 18 години, да изведе \"Нямате навършени години за поръчка\n",
        "на алкохол.\", а ако е 18 или повече - \"Поръчката е извършена.\"\n",
        "\"\"\"\n",
        "\n",
        "age = int(input(\"Моля, въведете вашата възраст: \"))\n",
        "if age < 18:\n",
        "    print(\"Нямате навършени години за поръчка на алкохол.\")\n",
        "else:\n",
        "    print(\"Поръчката е извършена.\")\n",
        "\n",
        "\"\"\"\n",
        "Обяснение: Декларираме променлива \"age\" и ползваме if-else условна проверка на\n",
        "подадените от потребителя години - \"age\"\n",
        "\"\"\""
      ]
    },
    {
      "cell_type": "code",
      "source": [
        "\"\"\"\n",
        " Условие: Да се създаде програма, която по даден брой точки (от 0 до 100)\n",
        " определя оценката на студента по скалата: над 90 - отличен (6),\n",
        " между 76 и 90 - много добър (5), между 51 и 75 - добър (4), под 51 - слаб (2).\n",
        "\"\"\"\n",
        "\n",
        "points = int(input(\"Моля, въведете брой точки: \"))\n",
        "if points > 90:\n",
        "    print(\"Отличен (6)\")\n",
        "elif points > 75:\n",
        "    print(\"Много добър (5)\")\n",
        "elif points > 50:\n",
        "    print(\"Добър (4)\")\n",
        "else:\n",
        "    print(\"Слаб (2)\")\n",
        "\n",
        "\"\"\"\n",
        "Обяснение: Декларираме променлива \"points\" и ползваме if-else условна проверка\n",
        "на подадените от потребителя точки - \"points\"\n",
        "\"\"\""
      ],
      "metadata": {
        "colab": {
          "base_uri": "https://localhost:8080/"
        },
        "id": "EUhPgjQ9EI8F",
        "outputId": "4583b5b3-d78a-453c-836b-259c0269103a"
      },
      "execution_count": 6,
      "outputs": [
        {
          "output_type": "stream",
          "name": "stdout",
          "text": [
            "Моля, въведете брой точки: 123\n",
            "Отличен (6)\n"
          ]
        }
      ]
    },
    {
      "cell_type": "code",
      "source": [
        "\"\"\"\n",
        "Условие: Напишете програма, която извежда числата от 1 до n, като използва\n",
        "while цикъл и принтипа произволно генерирам стринг с всяка итерация.\n",
        "\"\"\"\n",
        "import random\n",
        "import string\n",
        "\n",
        "def generate_random_string(length):\n",
        "    characters = string.ascii_uppercase + string.digits\n",
        "    random_string = ''.join(random.sample(characters, length))\n",
        "    return random_string\n",
        "\n",
        "def main():\n",
        "    n = int(input(\"Моля, въведене число: \"))\n",
        "    i = 0\n",
        "    while i <= n:\n",
        "      print(f\"{i} - {generate_random_string(i)}\")\n",
        "      i += 1\n",
        "\n",
        "if __name__ == '__main__':\n",
        "    main()\n",
        "\n",
        "\"\"\"\n",
        "Обяснение: Тук вдигнах малко нивото като включих \"добрата практика\" main\n",
        "function. Също така дефинираме допълнителна функция за генериране на\n",
        "прозволен стринг, тази функция ползва съответната итерация от while loop\n",
        "\"\"\""
      ],
      "metadata": {
        "colab": {
          "base_uri": "https://localhost:8080/"
        },
        "id": "J5t-DJyKGiNd",
        "outputId": "3ccb0e40-6e2d-42d4-9161-4fd4fb6df0de"
      },
      "execution_count": 9,
      "outputs": [
        {
          "output_type": "stream",
          "name": "stdout",
          "text": [
            "Моля, въведене число: 24\n",
            "0 - \n",
            "1 - 9\n",
            "2 - 37\n",
            "3 - AKG\n",
            "4 - ETUM\n",
            "5 - 4BKO3\n",
            "6 - U4THJ8\n",
            "7 - PU5SGNL\n",
            "8 - MZPVABUK\n",
            "9 - HPMWZ6V7T\n",
            "10 - KLHNEBS569\n",
            "11 - O5S0483X6P9\n",
            "12 - Q3M09FCTHYKA\n",
            "13 - 3C2JTFYDIXWM9\n",
            "14 - TPCO6D32AI8SFX\n",
            "15 - 2WZNVFALCDXUPHK\n",
            "16 - VZXKPDQBY784F1NH\n",
            "17 - GECDYHTK0V9FW7SNM\n",
            "18 - 7WT62QKUFJ3HXB5ZSA\n",
            "19 - S69ED1547BRKCHNYWMT\n",
            "20 - YREA2X3NZ4GF6UKCBT17\n",
            "21 - IC0J2DY5LUKQAS4HR6T8W\n",
            "22 - 2N38J5S6FMQPWO971TYALH\n",
            "23 - QJ6YREZHF8DSK1LGOBNW75A\n",
            "24 - S74GI0QKZT3NFCJYEHL5VUPW\n"
          ]
        }
      ]
    },
    {
      "cell_type": "code",
      "source": [
        "\"\"\"\n",
        "Условие: Напишете програма, която изписва подадена дума на обратно.\n",
        "\"\"\"\n",
        "\n",
        "string = str(input())\n",
        "\n",
        "for i in string[::-1]:\n",
        "  # end e за да определиш къде да принтира. В случая на един ред.\n",
        "  print(i, end=\"\")\n",
        "\n",
        "\"\"\"\n",
        "Обяснение: Декларация на \"string\" и въртене на for цикъл на слайснатия\n",
        "подаден стринг.\n",
        "\"\"\""
      ],
      "metadata": {
        "colab": {
          "base_uri": "https://localhost:8080/",
          "height": 70
        },
        "id": "2si8pnlKL8D7",
        "outputId": "da54abe5-8c0c-45d2-86ce-92047973ca2b"
      },
      "execution_count": 17,
      "outputs": [
        {
          "output_type": "stream",
          "name": "stdout",
          "text": [
            "Pavlin\n",
            "nilvaP"
          ]
        },
        {
          "output_type": "execute_result",
          "data": {
            "text/plain": [
              "'\\nОбяснение: Декларация на \"string\" и въртене на for цикъл на слайснатия\\nподаден стринг.\\n'"
            ],
            "application/vnd.google.colaboratory.intrinsic+json": {
              "type": "string"
            }
          },
          "metadata": {},
          "execution_count": 17
        }
      ]
    },
    {
      "cell_type": "code",
      "source": [
        "\"\"\"\n",
        "Условие: Програма, която намира броя на гласните букви (на кирилица и латиница)\n",
        "в даден текст.\n",
        "\"\"\"\n",
        "\n",
        "text = input(\"Моля, въведете текст: \").lower()\n",
        "vowels = 'aeiouаеиоу'\n",
        "# count - тази комбинация е generator expression\n",
        "count = sum(1 for char in text if char in vowels)\n",
        "print(f\"Брой гласни букви: {count}\")\n",
        "\n",
        "\"\"\"\n",
        "Обяснение: Декларация на \"text\", инициализация на \"vowels\" съдържаща гласни на\n",
        "кирилица и латиница, ползваме вградената функця \"sum()\" и\n",
        "подаден стринг.\n",
        "\"\"\""
      ],
      "metadata": {
        "colab": {
          "base_uri": "https://localhost:8080/",
          "height": 70
        },
        "id": "vmKvOo5FOqjj",
        "outputId": "2f535006-806f-434c-ea75-ab8210366a00"
      },
      "execution_count": 18,
      "outputs": [
        {
          "output_type": "stream",
          "name": "stdout",
          "text": [
            "Моля, въведете текст: тест\n",
            "Брой гласни букви: 1\n"
          ]
        },
        {
          "output_type": "execute_result",
          "data": {
            "text/plain": [
              "'\\nОбяснение: Декларация на \"text\", инициализация на \"vowels\" съдържаща гласни на \\nкирилица и латиница, ползваме вградената функця \"sum()\" и \\nподаден стринг.\\n'"
            ],
            "application/vnd.google.colaboratory.intrinsic+json": {
              "type": "string"
            }
          },
          "metadata": {},
          "execution_count": 18
        }
      ]
    },
    {
      "cell_type": "code",
      "source": [
        "\"\"\"\n",
        "Условие: Програма, която използва някой от по известните методи на string\n",
        "върху примерен текст.\n",
        "\"\"\"\n",
        "\n",
        "text = \"Hello, World! Programming is fun.\"\n",
        "\n",
        "# Всички букви правим главни\n",
        "print(f\".upper() - {text.upper()}\")\n",
        "\n",
        "# Всички букви правим малки\n",
        "print(f\".lower() - {text.lower()}\")\n",
        "\n",
        "# Индекс на първата поява на \"World\"\n",
        "print(f\".find('World') - {text.find('World')}\")\n",
        "\n",
        "# Заместване на \"World\" с \"Python\"\n",
        "print(text.replace(\"World\", \"Python\"))\n",
        "print(f\".replace('World', 'Python') - {text.replace('World', 'Python')}\")\n",
        "\n",
        "# Проверка дали низът завършва с \"fun.\"\n",
        "print(text.endswith('fun.'))\n",
        "print(f\".endswith('fun.') - {text.endswith('fun.')}\")\n",
        "\n",
        "\"\"\"\n",
        "Обяснение: Функционалността на всеки ползван метод от string класът\n",
        "е описан в кода.\n",
        "\"\"\""
      ],
      "metadata": {
        "colab": {
          "base_uri": "https://localhost:8080/",
          "height": 156
        },
        "id": "2A_berzJSpAg",
        "outputId": "3698e109-30be-4e7a-d9a9-2e91c61a4fa9"
      },
      "execution_count": 22,
      "outputs": [
        {
          "output_type": "stream",
          "name": "stdout",
          "text": [
            ".upper() - HELLO, WORLD! PROGRAMMING IS FUN.\n",
            ".lower() - hello, world! programming is fun.\n",
            ".find('World') - 7\n",
            "Hello, Python! Programming is fun.\n",
            ".replace('World', 'Python') - Hello, Python! Programming is fun.\n",
            "True\n",
            ".endswith('fun.') - True\n"
          ]
        },
        {
          "output_type": "execute_result",
          "data": {
            "text/plain": [
              "'\\nОбяснение: Функционалността на всеки ползван метод от string класът\\nе описан в кода. \\n'"
            ],
            "application/vnd.google.colaboratory.intrinsic+json": {
              "type": "string"
            }
          },
          "metadata": {},
          "execution_count": 22
        }
      ]
    },
    {
      "cell_type": "code",
      "source": [
        "\"\"\"\n",
        "Условие: Програма, която пресмята 3 подадени от потребителя числа\n",
        "\"\"\"\n",
        "\n",
        "numbers = []\n",
        "while len(numbers) < 3:\n",
        "    entry = input(\"Въведете число за сумиране (необходими са 3 числа): \")\n",
        "    try: # try-except блок, ако въведем нещо различно от цифра/число\n",
        "        number = int(entry) # Конвертираме в цяло число\n",
        "        numbers.append(number)\n",
        "    except ValueError:\n",
        "        print(\"Моля, въведете валидно число.\")\n",
        "\n",
        "print(f\"Сумата на числата е: {sum(numbers)}\")\n",
        "\n",
        "\"\"\"\n",
        "Обяснение: Декларираме списък \"numbers\", който да съдържа подадените числа,\n",
        "въртим while до 3 подадени числа, който апендва към numbers списъка и правим\n",
        "проверка на вкяко подадено число с try-except блок.\n",
        "\"\"\""
      ],
      "metadata": {
        "colab": {
          "base_uri": "https://localhost:8080/"
        },
        "id": "2Fo4T4IzQnke",
        "outputId": "72ccbcd8-967d-4120-ba7e-26ce0703d9d5"
      },
      "execution_count": 20,
      "outputs": [
        {
          "output_type": "stream",
          "name": "stdout",
          "text": [
            "Въведете число за сумиране (необходими са 3 числа): 2\n",
            "Въведете число за сумиране (необходими са 3 числа): s\n",
            "Моля, въведете валидно число.\n",
            "Въведете число за сумиране (необходими са 3 числа): 5\n",
            "Въведете число за сумиране (необходими са 3 числа): 2\n",
            "Сумата на числата е: 9\n"
          ]
        }
      ]
    },
    {
      "cell_type": "code",
      "source": [
        "\"\"\"\n",
        "Условие: Създаваме примерна квадратна матрица, list comprehension и zip функиця\n",
        "за транспонирането ѝ.\n",
        "\"\"\"\n",
        "mat = [[1, 2, 3], [4, 5, 6], [7, 8, 9]]\n",
        "transposed = [list(row) for row in zip(*mat)]\n",
        "print(transposed)\n",
        "\n",
        "\"\"\"\n",
        "Обяснение: Имаме матрица \"mat\". За транспонирането ѝ използваме \"zip(*mat)\",\n",
        "където \"*mat\" разопакова редовете на матрицата като отделни аргументи на \"zip\",\n",
        "което комбинира елементите по колони вместо по редове. В резултат, с list\n",
        "comprehension създаваме нов списък от списъци, където всяка \"колона\" от\n",
        "оригиналната матрица е преобразувана в \"ред\" в новата матрица.\n",
        "\"\"\""
      ],
      "metadata": {
        "colab": {
          "base_uri": "https://localhost:8080/",
          "height": 70
        },
        "id": "eqdtPBntWNv4",
        "outputId": "3351484d-256f-41b7-e5b4-d704150eca2a"
      },
      "execution_count": 23,
      "outputs": [
        {
          "output_type": "stream",
          "name": "stdout",
          "text": [
            "[[1, 4, 7], [2, 5, 8], [3, 6, 9]]\n"
          ]
        },
        {
          "output_type": "execute_result",
          "data": {
            "text/plain": [
              "'\\nОбяснение: Имаме матрица \"mat\". За транспонирането ѝ използваме \"zip(*mat)\", \\nкъдето \"*mat\" разопакова редовете на матрицата като отделни аргументи на \"zip\",\\nкоето комбинира елементите по колони вместо по редове. В резултат, с list\\ncomprehension създаваме нов списък от списъци, където всяка \"колона\" от\\nоригиналната матрица е преобразувана в \"ред\" в новата матрица.\\n\\n'"
            ],
            "application/vnd.google.colaboratory.intrinsic+json": {
              "type": "string"
            }
          },
          "metadata": {},
          "execution_count": 23
        }
      ]
    },
    {
      "cell_type": "code",
      "source": [
        "\"\"\"\n",
        "Задача със set\n",
        "Условие: Напишете програма, която приема низ от потребителя, премахва всички\n",
        "повтарящи се символи и извежда останалите символи сортирани по азбучен ред.\n",
        "\"\"\"\n",
        "\n",
        "text = input(\"Въведете текст: \")\n",
        "# Премахване на повтарящите се символи и сортиране\n",
        "unique_chars = sorted(set(text))\n",
        "# Превръщане обратно в string и извеждане\n",
        "sorted_text = ''.join(unique_chars)\n",
        "print(f\"Символи: {sorted_text}\")\n",
        "\n",
        "\"\"\"\n",
        "Обяснение: Приема текст от потребителя, премахва всички повтарящи се\n",
        "символи, сортира останалите по азбучен ред и ги извежда обратно като низ.\n",
        "\"\"\""
      ],
      "metadata": {
        "colab": {
          "base_uri": "https://localhost:8080/",
          "height": 70
        },
        "id": "ugshCmo_ZOkP",
        "outputId": "ccfa47bf-441f-40da-f142-88c51841a1cd"
      },
      "execution_count": 24,
      "outputs": [
        {
          "output_type": "stream",
          "name": "stdout",
          "text": [
            "Въведете текст: ,у,у,уа\n",
            "Символи: ,ау\n"
          ]
        },
        {
          "output_type": "execute_result",
          "data": {
            "text/plain": [
              "'\\nОбяснение: Приема текст от потребителя, премахва всички повтарящи се\\nсимволи, сортира останалите по азбучен ред и ги извежда обратно като низ.\\n'"
            ],
            "application/vnd.google.colaboratory.intrinsic+json": {
              "type": "string"
            }
          },
          "metadata": {},
          "execution_count": 24
        }
      ]
    },
    {
      "cell_type": "code",
      "source": [
        "\"\"\"\n",
        "Задача със tuple\n",
        "Условие: Напишете програма, която да обединява два tuple-a\n",
        "\"\"\"\n",
        "# Деклариране на два tuple-a\n",
        "tuple1 = (2, 4, 5, 7)\n",
        "tuple2 = (1, 3, 6, 7)\n",
        "# Обединяване на два tuple-a\n",
        "combined_tuple = tuple(tuple1 + tuple2)\n",
        "\n",
        "print(f\"Обединен и сортиран кортеж: {combined_tuple}\")\n",
        "\n",
        "\"\"\"\n",
        "Обяснение: Деклариране на два tuple-a, обединяване на два tuple-a и принтиране\n",
        "на резултата.\n",
        "\"\"\""
      ],
      "metadata": {
        "colab": {
          "base_uri": "https://localhost:8080/"
        },
        "id": "4xPk8G3TcKQ-",
        "outputId": "45b1cbc6-ee9a-4bc6-b6c9-d11bb2ad92cd"
      },
      "execution_count": 26,
      "outputs": [
        {
          "output_type": "stream",
          "name": "stdout",
          "text": [
            "Обединен и сортиран кортеж: (2, 4, 5, 7, 1, 3, 6, 7)\n"
          ]
        }
      ]
    }
  ]
}