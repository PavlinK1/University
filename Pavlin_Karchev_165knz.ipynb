{
  "nbformat": 4,
  "nbformat_minor": 0,
  "metadata": {
    "colab": {
      "provenance": [],
      "authorship_tag": "ABX9TyPVqu9f2vz57morFIBKo/Me",
      "include_colab_link": true
    },
    "kernelspec": {
      "name": "python3",
      "display_name": "Python 3"
    },
    "language_info": {
      "name": "python"
    }
  },
  "cells": [
    {
      "cell_type": "markdown",
      "metadata": {
        "id": "view-in-github",
        "colab_type": "text"
      },
      "source": [
        "<a href=\"https://colab.research.google.com/github/PavlinK1/University/blob/main/Pavlin_Karchev_165knz.ipynb\" target=\"_parent\"><img src=\"https://colab.research.google.com/assets/colab-badge.svg\" alt=\"Open In Colab\"/></a>"
      ]
    },
    {
      "cell_type": "code",
      "execution_count": 5,
      "metadata": {
        "colab": {
          "base_uri": "https://localhost:8080/"
        },
        "id": "kqFhf0kGDXr7",
        "outputId": "b571ca15-a73e-46c6-a1b4-f8461a0dff11"
      },
      "outputs": [
        {
          "output_type": "stream",
          "name": "stdout",
          "text": [
            "Моля, въведете вашата възраст: 14\n",
            "Нямате навършени години за поръчка на алкохол.\n"
          ]
        }
      ],
      "source": [
        "\"\"\"\n",
        "Условие: Да се напише програма, която изисква от потребителя да въведе възрастта\n",
        "си. Ако възрастта е под 18 години, да изведе \"Нямате навършени години за поръчка\n",
        "на алкохол.\", а ако е 18 или повече - \"Поръчката е извършена.\"\n",
        "\"\"\"\n",
        "\n",
        "age = int(input(\"Моля, въведете вашата възраст: \"))\n",
        "if age < 18:\n",
        "    print(\"Нямате навършени години за поръчка на алкохол.\")\n",
        "else:\n",
        "    print(\"Поръчката е извършена.\")\n",
        "\n",
        "\"\"\"\n",
        "Обяснение: Декларираме променлива \"age\" и ползваме if-else условна проверка на\n",
        "подадените от потребителя години - \"age\"\n",
        "\"\"\""
      ]
    },
    {
      "cell_type": "code",
      "source": [
        "\"\"\"\n",
        " Условие: Да се създаде програма, която по даден брой точки (от 0 до 100)\n",
        " определя оценката на студента по скалата: над 90 - отличен (6),\n",
        " между 76 и 90 - много добър (5), между 51 и 75 - добър (4), под 51 - слаб (2).\n",
        "\"\"\"\n",
        "\n",
        "points = int(input(\"Моля, въведете брой точки: \"))\n",
        "if points > 90:\n",
        "    print(\"Отличен (6)\")\n",
        "elif points > 75:\n",
        "    print(\"Много добър (5)\")\n",
        "elif points > 50:\n",
        "    print(\"Добър (4)\")\n",
        "else:\n",
        "    print(\"Слаб (2)\")\n",
        "\n",
        "\"\"\"\n",
        "Обяснение: Декларираме променлива \"points\" и ползваме if-else условна проверка\n",
        "на подадените от потребителя точки - \"points\"\n",
        "\"\"\""
      ],
      "metadata": {
        "colab": {
          "base_uri": "https://localhost:8080/"
        },
        "id": "EUhPgjQ9EI8F",
        "outputId": "4583b5b3-d78a-453c-836b-259c0269103a"
      },
      "execution_count": 6,
      "outputs": [
        {
          "output_type": "stream",
          "name": "stdout",
          "text": [
            "Моля, въведете брой точки: 123\n",
            "Отличен (6)\n"
          ]
        }
      ]
    },
    {
      "cell_type": "code",
      "source": [
        "\"\"\"\n",
        "Условие: Напишете програма, която извежда числата от 1 до n, като използва\n",
        "while цикъл и принтипа произволно генерирам стринг с всяка итерация.\n",
        "\"\"\"\n",
        "import random\n",
        "import string\n",
        "\n",
        "def generate_random_string(length):\n",
        "    characters = string.ascii_uppercase + string.digits\n",
        "    random_string = ''.join(random.sample(characters, length))\n",
        "    return random_string\n",
        "\n",
        "def main():\n",
        "    n = int(input(\"Моля, въведене число: \"))\n",
        "    i = 0\n",
        "    while i <= n:\n",
        "      print(f\"{i} - {generate_random_string(i)}\")\n",
        "      i += 1\n",
        "\n",
        "if __name__ == '__main__':\n",
        "    main()\n",
        "\n",
        "\"\"\"\n",
        "Обяснение: Тук вдигнах малко нивото като включих \"добрата практика\" main\n",
        "function. Също така дефинираме допълнителна функция за генериране на\n",
        "прозволен стринг, тази функция ползва съответната итерация от while loop\n",
        "\"\"\""
      ],
      "metadata": {
        "colab": {
          "base_uri": "https://localhost:8080/"
        },
        "id": "J5t-DJyKGiNd",
        "outputId": "3ccb0e40-6e2d-42d4-9161-4fd4fb6df0de"
      },
      "execution_count": 9,
      "outputs": [
        {
          "output_type": "stream",
          "name": "stdout",
          "text": [
            "Моля, въведене число: 24\n",
            "0 - \n",
            "1 - 9\n",
            "2 - 37\n",
            "3 - AKG\n",
            "4 - ETUM\n",
            "5 - 4BKO3\n",
            "6 - U4THJ8\n",
            "7 - PU5SGNL\n",
            "8 - MZPVABUK\n",
            "9 - HPMWZ6V7T\n",
            "10 - KLHNEBS569\n",
            "11 - O5S0483X6P9\n",
            "12 - Q3M09FCTHYKA\n",
            "13 - 3C2JTFYDIXWM9\n",
            "14 - TPCO6D32AI8SFX\n",
            "15 - 2WZNVFALCDXUPHK\n",
            "16 - VZXKPDQBY784F1NH\n",
            "17 - GECDYHTK0V9FW7SNM\n",
            "18 - 7WT62QKUFJ3HXB5ZSA\n",
            "19 - S69ED1547BRKCHNYWMT\n",
            "20 - YREA2X3NZ4GF6UKCBT17\n",
            "21 - IC0J2DY5LUKQAS4HR6T8W\n",
            "22 - 2N38J5S6FMQPWO971TYALH\n",
            "23 - QJ6YREZHF8DSK1LGOBNW75A\n",
            "24 - S74GI0QKZT3NFCJYEHL5VUPW\n"
          ]
        }
      ]
    },
    {
      "cell_type": "code",
      "source": [
        "\"\"\"\n",
        "Условие: Напишете програма, която изписва подадена дума на обратно.\n",
        "\"\"\"\n",
        "\n",
        "string = str(input())\n",
        "\n",
        "for i in string[::-1]:\n",
        "  print(i, end=\"\") # end e за да определиш къде да принтира. В случая на един ред.\n",
        "\n",
        "\"\"\"\n",
        "Обяснение: Декларация на \"string\" и въртене на for цикъл на слайснатия\n",
        "подаден стринг.\n",
        "\"\"\""
      ],
      "metadata": {
        "colab": {
          "base_uri": "https://localhost:8080/"
        },
        "id": "2si8pnlKL8D7",
        "outputId": "87b24a27-6f31-4696-9cab-2067a4060000"
      },
      "execution_count": 15,
      "outputs": [
        {
          "output_type": "stream",
          "name": "stdout",
          "text": [
            "Pavlin\n",
            "nilvaP"
          ]
        }
      ]
    }
  ]
}